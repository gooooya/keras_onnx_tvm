{
 "cells": [
  {
   "cell_type": "markdown",
   "id": "ac69292e-1c9c-43e9-9f46-7fd145799a3c",
   "metadata": {
    "scrolled": true
   },
   "source": [
    "### 学習"
   ]
  },
  {
   "cell_type": "code",
   "execution_count": 1,
   "id": "dda4bfb2-ce3e-440c-84a7-740375966528",
   "metadata": {},
   "outputs": [
    {
     "name": "stderr",
     "output_type": "stream",
     "text": [
      "2024-01-09 06:01:16.837324: I tensorflow/tsl/cuda/cudart_stub.cc:28] Could not find cuda drivers on your machine, GPU will not be used.\n",
      "2024-01-09 06:01:16.870188: I tensorflow/tsl/cuda/cudart_stub.cc:28] Could not find cuda drivers on your machine, GPU will not be used.\n",
      "2024-01-09 06:01:16.871050: I tensorflow/core/platform/cpu_feature_guard.cc:182] This TensorFlow binary is optimized to use available CPU instructions in performance-critical operations.\n",
      "To enable the following instructions: AVX2 FMA, in other operations, rebuild TensorFlow with the appropriate compiler flags.\n",
      "2024-01-09 06:01:17.673293: W tensorflow/compiler/tf2tensorrt/utils/py_utils.cc:38] TF-TRT Warning: Could not find TensorRT\n"
     ]
    },
    {
     "name": "stdout",
     "output_type": "stream",
     "text": [
      "Epoch 1/5\n",
      "1875/1875 [==============================] - 4s 2ms/step - loss: 0.2931 - accuracy: 0.9149\n",
      "Epoch 2/5\n",
      "1875/1875 [==============================] - 4s 2ms/step - loss: 0.1407 - accuracy: 0.9572\n",
      "Epoch 3/5\n",
      "1875/1875 [==============================] - 4s 2ms/step - loss: 0.1059 - accuracy: 0.9671\n",
      "Epoch 4/5\n",
      "1875/1875 [==============================] - 4s 2ms/step - loss: 0.0845 - accuracy: 0.9743\n",
      "Epoch 5/5\n",
      "1875/1875 [==============================] - 4s 2ms/step - loss: 0.0749 - accuracy: 0.9766\n",
      "313/313 - 0s - loss: 0.0712 - accuracy: 0.9785 - 445ms/epoch - 1ms/step\n",
      "\n",
      "Test accuracy: 0.9785000085830688\n"
     ]
    }
   ],
   "source": [
    "import tensorflow as tf\n",
    "from tensorflow import keras\n",
    "from tensorflow.keras import layers\n",
    "\n",
    "# データセットの読み込み（ここではMNISTデータセットを使用）\n",
    "(X_train, y_train), (X_test, y_test) = keras.datasets.mnist.load_data()\n",
    "\n",
    "# データの前処理\n",
    "X_train, X_test = X_train / 255.0, X_test / 255.0\n",
    "\n",
    "# モデルの定義\n",
    "model = keras.Sequential([\n",
    "    layers.Flatten(input_shape=(28, 28)),\n",
    "    layers.Dense(128, activation='relu'),\n",
    "    layers.Dropout(0.2),\n",
    "    layers.Dense(10)\n",
    "])\n",
    "\n",
    "# モデルのコンパイル\n",
    "model.compile(optimizer='adam',\n",
    "              loss=tf.keras.losses.SparseCategoricalCrossentropy(from_logits=True),\n",
    "              metrics=['accuracy'])\n",
    "\n",
    "# モデルの訓練\n",
    "model.fit(X_train, y_train, epochs=5)\n",
    "\n",
    "# モデルの評価\n",
    "test_loss, test_acc = model.evaluate(X_test, y_test, verbose=2)\n",
    "print('\\nTest accuracy:', test_acc)"
   ]
  },
  {
   "cell_type": "markdown",
   "id": "1ac059e0-b465-4cc8-b122-0b0124ca1367",
   "metadata": {},
   "source": [
    "### onnx形式にエクスポート"
   ]
  },
  {
   "cell_type": "code",
   "execution_count": 2,
   "id": "d071f98f-c55f-4569-8554-03d0b8479e72",
   "metadata": {},
   "outputs": [],
   "source": [
    "model_name = \"model_tensorflow.onnx\""
   ]
  },
  {
   "cell_type": "code",
   "execution_count": 3,
   "id": "8e82eb2c-b600-4eb6-b048-7999fc546800",
   "metadata": {},
   "outputs": [
    {
     "name": "stderr",
     "output_type": "stream",
     "text": [
      "Could not search for non-variable resources. Concrete function internal representation may have changed.\n",
      "2024-01-09 06:01:39.142590: I tensorflow/core/grappler/devices.cc:66] Number of eligible GPUs (core count >= 8, compute capability >= 0.0): 0\n",
      "2024-01-09 06:01:39.142865: I tensorflow/core/grappler/clusters/single_machine.cc:357] Starting new session\n",
      "2024-01-09 06:01:39.172468: I tensorflow/core/grappler/devices.cc:66] Number of eligible GPUs (core count >= 8, compute capability >= 0.0): 0\n",
      "2024-01-09 06:01:39.172594: I tensorflow/core/grappler/clusters/single_machine.cc:357] Starting new session\n"
     ]
    }
   ],
   "source": [
    "import tf2onnx\n",
    "import onnx\n",
    "\n",
    "# TensorFlowモデルをONNX形式に変換\n",
    "onnx_model, _ = tf2onnx.convert.from_keras(model)\n",
    "\n",
    "# ONNXモデルをファイルに保存\n",
    "onnx.save_model(onnx_model, model_name)"
   ]
  },
  {
   "cell_type": "markdown",
   "id": "71437cbb-c21e-4f18-bcf0-95fc6df6b2ef",
   "metadata": {},
   "source": [
    "### onnx形式のモデルの読み込みおよび確認"
   ]
  },
  {
   "cell_type": "code",
   "execution_count": 4,
   "id": "5134475c-7ce7-4485-b442-0821692372ab",
   "metadata": {},
   "outputs": [
    {
     "name": "stdout",
     "output_type": "stream",
     "text": [
      "\n",
      "入力ノードの情報:\n",
      "名前: flatten_input\n",
      "形状: dim {\n",
      "  dim_param: \"unk__8\"\n",
      "}\n",
      "dim {\n",
      "  dim_value: 28\n",
      "}\n",
      "dim {\n",
      "  dim_value: 28\n",
      "}\n",
      "\n"
     ]
    }
   ],
   "source": [
    "# 入力ノードの名前と形状情報を確認\n",
    "print(\"\\n入力ノードの情報:\")\n",
    "for input_node in onnx_model.graph.input:\n",
    "    print(\"名前:\", input_node.name)\n",
    "    print(\"形状:\", input_node.type.tensor_type.shape)"
   ]
  },
  {
   "cell_type": "markdown",
   "id": "ba8e9a21-a0ab-4371-8ab9-42f60494159e",
   "metadata": {},
   "source": [
    "### so形式にエクスポート"
   ]
  },
  {
   "cell_type": "code",
   "execution_count": 5,
   "id": "922f02a2-98de-41df-969f-e2f1ebac2da9",
   "metadata": {},
   "outputs": [
    {
     "name": "stderr",
     "output_type": "stream",
     "text": [
      "One or more operators have not been tuned. Please tune your model for better performance. Use DEBUG logging level to see more details.\n"
     ]
    }
   ],
   "source": [
    "import onnx\n",
    "import tvm\n",
    "from tvm import relay\n",
    "\n",
    "# ONNXモデルの読み込み\n",
    "onnx_model = onnx.load(model_name)\n",
    "\n",
    "# モデルをTVMの中間表現に変換\n",
    "target = \"llvm\"\n",
    "input_shape = (1, 1, 28, 28)\n",
    "shape_dict = {input_node.name: input_shape}\n",
    "mod, params = relay.frontend.from_onnx(onnx_model, shape_dict)\n",
    "\n",
    "# コンパイル\n",
    "with tvm.transform.PassContext(opt_level=1):\n",
    "    compiled_lib = relay.build(mod, target=target, params=params)\n",
    "\n",
    "# コンパイルされたモデルの保存\n",
    "compiled_lib.export_library(\"keras-tvm.so\")"
   ]
  },
  {
   "cell_type": "markdown",
   "id": "3c89131f-e00f-47b5-8318-c1f22d43b392",
   "metadata": {},
   "source": [
    "### 形式比較"
   ]
  },
  {
   "cell_type": "code",
   "execution_count": 6,
   "id": "3a66c3ee-602b-451b-ada5-1d56f7983d1b",
   "metadata": {},
   "outputs": [],
   "source": [
    "import numpy as np\n",
    "# テストデータの前処理（適当なデータを生成）\n",
    "input_data = np.random.rand(1, 28, 28).astype(\"float32\")"
   ]
  },
  {
   "cell_type": "code",
   "execution_count": 7,
   "id": "aa6f3914-9692-4d88-b639-0d1440de499d",
   "metadata": {},
   "outputs": [
    {
     "name": "stdout",
     "output_type": "stream",
     "text": [
      "1/1 [==============================] - 0s 60ms/step\n"
     ]
    }
   ],
   "source": [
    "import onnxruntime as ort\n",
    "# ONNXモデルのパス\n",
    "onnx_model_path = 'model_tensorflow.onnx'\n",
    "\n",
    "# ONNXモデルを読み込む\n",
    "onnx_model = onnx.load(onnx_model_path)\n",
    "\n",
    "# ONNXランタイムをセットアップ\n",
    "ort_session = ort.InferenceSession(onnx_model_path)\n",
    "\n",
    "# ONNX形式に変換したモデルでの推論\n",
    "onnx_output = ort_session.run(None, {input_node.name: input_data})\n",
    "\n",
    "# keras.Sequential形式のモデルの推論\n",
    "keras_output = model.predict(input_data)"
   ]
  },
  {
   "cell_type": "code",
   "execution_count": 16,
   "id": "a4a72985-3bfd-4f3a-a27d-5ba6c5d234d1",
   "metadata": {},
   "outputs": [],
   "source": [
    "import tvm\n",
    "from tvm.contrib import graph_executor\n",
    "import numpy as np\n",
    "\n",
    "# コンパイルされたモジュールをロード\n",
    "lib = tvm.runtime.load_module(\"keras-tvm.so\")\n",
    "dev = tvm.cpu(0)\n",
    "\n",
    "# GraphModuleを作成\n",
    "gmod = graph_executor.GraphModule(lib[\"default\"](dev))\n",
    "\n",
    "# 入力データを準備（これは例であり、実際のデータに置き換える必要があります）\n",
    "input_data = np.random.uniform(size=(1, 1, 28, 28)).astype(\"float32\")\n",
    "\n",
    "# 入力を設定して実行\n",
    "gmod.set_input(input_node.name, tvm.nd.array(input_data))\n",
    "gmod.run()\n",
    "\n",
    "# 出力を取得\n",
    "tvm_output = gmod.get_output(0).asnumpy()"
   ]
  },
  {
   "cell_type": "code",
   "execution_count": 9,
   "id": "ed33b1c7-a345-4e44-8862-e998e4b5632c",
   "metadata": {},
   "outputs": [
    {
     "data": {
      "text/html": [
       "<div>\n",
       "<style scoped>\n",
       "    .dataframe tbody tr th:only-of-type {\n",
       "        vertical-align: middle;\n",
       "    }\n",
       "\n",
       "    .dataframe tbody tr th {\n",
       "        vertical-align: top;\n",
       "    }\n",
       "\n",
       "    .dataframe thead th {\n",
       "        text-align: right;\n",
       "    }\n",
       "</style>\n",
       "<table border=\"1\" class=\"dataframe\">\n",
       "  <thead>\n",
       "    <tr style=\"text-align: right;\">\n",
       "      <th></th>\n",
       "      <th>Keras Output</th>\n",
       "      <th>ONNX Output</th>\n",
       "      <th>tvm Output</th>\n",
       "      <th>k-o Difference</th>\n",
       "      <th>k-t Difference</th>\n",
       "      <th>o-t Difference</th>\n",
       "    </tr>\n",
       "  </thead>\n",
       "  <tbody>\n",
       "    <tr>\n",
       "      <th>0</th>\n",
       "      <td>-13.975501</td>\n",
       "      <td>-13.975495</td>\n",
       "      <td>-14.059313</td>\n",
       "      <td>5.722046e-06</td>\n",
       "      <td>0.083812</td>\n",
       "      <td>0.083817</td>\n",
       "    </tr>\n",
       "    <tr>\n",
       "      <th>1</th>\n",
       "      <td>-10.512897</td>\n",
       "      <td>-10.512895</td>\n",
       "      <td>-12.906715</td>\n",
       "      <td>2.861023e-06</td>\n",
       "      <td>2.393818</td>\n",
       "      <td>2.393821</td>\n",
       "    </tr>\n",
       "    <tr>\n",
       "      <th>2</th>\n",
       "      <td>6.042183</td>\n",
       "      <td>6.042183</td>\n",
       "      <td>4.898134</td>\n",
       "      <td>4.768372e-07</td>\n",
       "      <td>1.144049</td>\n",
       "      <td>1.144049</td>\n",
       "    </tr>\n",
       "    <tr>\n",
       "      <th>3</th>\n",
       "      <td>9.024312</td>\n",
       "      <td>9.024311</td>\n",
       "      <td>10.100356</td>\n",
       "      <td>9.536743e-07</td>\n",
       "      <td>1.076044</td>\n",
       "      <td>1.076045</td>\n",
       "    </tr>\n",
       "    <tr>\n",
       "      <th>4</th>\n",
       "      <td>-23.014868</td>\n",
       "      <td>-23.014866</td>\n",
       "      <td>-26.053291</td>\n",
       "      <td>1.907349e-06</td>\n",
       "      <td>3.038424</td>\n",
       "      <td>3.038425</td>\n",
       "    </tr>\n",
       "    <tr>\n",
       "      <th>5</th>\n",
       "      <td>6.289399</td>\n",
       "      <td>6.289399</td>\n",
       "      <td>5.962965</td>\n",
       "      <td>4.768372e-07</td>\n",
       "      <td>0.326434</td>\n",
       "      <td>0.326433</td>\n",
       "    </tr>\n",
       "    <tr>\n",
       "      <th>6</th>\n",
       "      <td>-4.499303</td>\n",
       "      <td>-4.499300</td>\n",
       "      <td>-3.610198</td>\n",
       "      <td>2.384186e-06</td>\n",
       "      <td>0.889104</td>\n",
       "      <td>0.889102</td>\n",
       "    </tr>\n",
       "    <tr>\n",
       "      <th>7</th>\n",
       "      <td>5.993570</td>\n",
       "      <td>5.993567</td>\n",
       "      <td>6.819549</td>\n",
       "      <td>3.337860e-06</td>\n",
       "      <td>0.825979</td>\n",
       "      <td>0.825982</td>\n",
       "    </tr>\n",
       "    <tr>\n",
       "      <th>8</th>\n",
       "      <td>-7.161730</td>\n",
       "      <td>-7.161728</td>\n",
       "      <td>-5.239726</td>\n",
       "      <td>1.907349e-06</td>\n",
       "      <td>1.922004</td>\n",
       "      <td>1.922002</td>\n",
       "    </tr>\n",
       "    <tr>\n",
       "      <th>9</th>\n",
       "      <td>-17.599163</td>\n",
       "      <td>-17.599163</td>\n",
       "      <td>-17.596352</td>\n",
       "      <td>0.000000e+00</td>\n",
       "      <td>0.002811</td>\n",
       "      <td>0.002811</td>\n",
       "    </tr>\n",
       "  </tbody>\n",
       "</table>\n",
       "</div>"
      ],
      "text/plain": [
       "   Keras Output  ONNX Output  tvm Output  k-o Difference  k-t Difference  \\\n",
       "0    -13.975501   -13.975495  -14.059313    5.722046e-06        0.083812   \n",
       "1    -10.512897   -10.512895  -12.906715    2.861023e-06        2.393818   \n",
       "2      6.042183     6.042183    4.898134    4.768372e-07        1.144049   \n",
       "3      9.024312     9.024311   10.100356    9.536743e-07        1.076044   \n",
       "4    -23.014868   -23.014866  -26.053291    1.907349e-06        3.038424   \n",
       "5      6.289399     6.289399    5.962965    4.768372e-07        0.326434   \n",
       "6     -4.499303    -4.499300   -3.610198    2.384186e-06        0.889104   \n",
       "7      5.993570     5.993567    6.819549    3.337860e-06        0.825979   \n",
       "8     -7.161730    -7.161728   -5.239726    1.907349e-06        1.922004   \n",
       "9    -17.599163   -17.599163  -17.596352    0.000000e+00        0.002811   \n",
       "\n",
       "   o-t Difference  \n",
       "0        0.083817  \n",
       "1        2.393821  \n",
       "2        1.144049  \n",
       "3        1.076045  \n",
       "4        3.038425  \n",
       "5        0.326433  \n",
       "6        0.889102  \n",
       "7        0.825982  \n",
       "8        1.922002  \n",
       "9        0.002811  "
      ]
     },
     "execution_count": 9,
     "metadata": {},
     "output_type": "execute_result"
    }
   ],
   "source": [
    "import pandas as pd\n",
    "\n",
    "\n",
    "# ONNX出力をNumPy配列に変換して1次元に平坦化\n",
    "onnx_output = np.array(onnx_output).flatten()\n",
    "\n",
    "# Keras出力が複数次元の場合は1次元に平坦化\n",
    "keras_output = keras_output.flatten()\n",
    "\n",
    "# Keras出力が複数次元の場合は1次元に平坦化\n",
    "tvm_output = tvm_output.flatten()\n",
    "\n",
    "# 元は同じモデルだが推論結果が微妙に異なる(最適化などの影響の模様)\n",
    "df = pd.DataFrame({\n",
    "    'Keras Output': keras_output,\n",
    "    'ONNX Output': onnx_output,\n",
    "    'tvm Output': tvm_output,\n",
    "    'k-o Difference': np.abs(keras_output - onnx_output),\n",
    "    'k-t Difference': np.abs(keras_output - tvm_output),\n",
    "    'o-t Difference': np.abs(onnx_output - tvm_output)\n",
    "})\n",
    "df"
   ]
  },
  {
   "cell_type": "markdown",
   "id": "a14c1705-5aa4-4a6b-b71d-1754e981a9bb",
   "metadata": {},
   "source": [
    "### 実行時間比較"
   ]
  },
  {
   "cell_type": "code",
   "execution_count": 10,
   "id": "b2916e7c-61c4-4f59-a55a-c6134b413e83",
   "metadata": {},
   "outputs": [],
   "source": [
    "input_data = np.random.rand(1, 28, 28).astype(\"float32\")"
   ]
  },
  {
   "cell_type": "code",
   "execution_count": 11,
   "id": "a2f95fea-6844-4b9d-bd22-59c0e4b16605",
   "metadata": {},
   "outputs": [
    {
     "name": "stdout",
     "output_type": "stream",
     "text": [
      "37.5 ms ± 1.5 ms per loop (mean ± std. dev. of 7 runs, 10 loops each)\n"
     ]
    }
   ],
   "source": [
    "%%timeit\n",
    "# モデルの推論\n",
    "output = model.predict(input_data, verbose=0)"
   ]
  },
  {
   "cell_type": "code",
   "execution_count": 12,
   "id": "0821fedb-50e8-47f2-a5ff-f09dcde85687",
   "metadata": {},
   "outputs": [
    {
     "name": "stdout",
     "output_type": "stream",
     "text": [
      "18.9 µs ± 2.42 µs per loop (mean ± std. dev. of 7 runs, 100,000 loops each)\n"
     ]
    }
   ],
   "source": [
    "%%timeit\n",
    "# ONNXモデルを実行\n",
    "output = ort_session.run(None, {input_node.name: input_data})"
   ]
  },
  {
   "cell_type": "code",
   "execution_count": 13,
   "id": "29e4b021-3b12-4674-9343-6e46d4bdab6d",
   "metadata": {},
   "outputs": [],
   "source": [
    "gmod.set_input(input_node.name, tvm.nd.array(input_data))"
   ]
  },
  {
   "cell_type": "code",
   "execution_count": 14,
   "id": "e0169184-a9d0-44e6-89fb-23b8cbdc5422",
   "metadata": {},
   "outputs": [
    {
     "name": "stdout",
     "output_type": "stream",
     "text": [
      "41 µs ± 1.6 µs per loop (mean ± std. dev. of 7 runs, 10,000 loops each)\n"
     ]
    }
   ],
   "source": [
    "%%timeit\n",
    "# tvmモデルを実行\n",
    "gmod.run()"
   ]
  },
  {
   "cell_type": "code",
   "execution_count": null,
   "id": "7663471c-2bc7-4591-9f68-8c1dce4fe6d7",
   "metadata": {},
   "outputs": [],
   "source": []
  }
 ],
 "metadata": {
  "kernelspec": {
   "display_name": "Python 3 (ipykernel)",
   "language": "python",
   "name": "python3"
  },
  "language_info": {
   "codemirror_mode": {
    "name": "ipython",
    "version": 3
   },
   "file_extension": ".py",
   "mimetype": "text/x-python",
   "name": "python",
   "nbconvert_exporter": "python",
   "pygments_lexer": "ipython3",
   "version": "3.8.18"
  }
 },
 "nbformat": 4,
 "nbformat_minor": 5
}
